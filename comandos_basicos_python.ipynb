{
  "nbformat": 4,
  "nbformat_minor": 0,
  "metadata": {
    "colab": {
      "name": "Comandos Básicos.ipynb",
      "version": "0.3.2",
      "provenance": []
    },
    "kernelspec": {
      "name": "python3",
      "display_name": "Python 3"
    }
  },
  "cells": [
    {
      "metadata": {
        "id": "gSYaM42DV1yB",
        "colab_type": "code",
        "colab": {
          "base_uri": "https://localhost:8080/",
          "height": 34
        },
        "outputId": "921dffb7-2756-4551-e751-82e2ec5f53de"
      },
      "cell_type": "code",
      "source": [
        "# Minha primeira frase\n",
        "print ('Hello World')\n"
      ],
      "execution_count": 7,
      "outputs": [
        {
          "output_type": "stream",
          "text": [
            "Hello World\n"
          ],
          "name": "stdout"
        }
      ]
    },
    {
      "metadata": {
        "id": "ORKbPNJMWK79",
        "colab_type": "code",
        "colab": {
          "base_uri": "https://localhost:8080/",
          "height": 34
        },
        "outputId": "124e02e6-496b-421e-b39e-974b259b7496"
      },
      "cell_type": "code",
      "source": [
        "# Vamos tentar diferente\n",
        "a = 'Hello'\n",
        "b = ' World'\n",
        "print (a + b)"
      ],
      "execution_count": 8,
      "outputs": [
        {
          "output_type": "stream",
          "text": [
            "Hello World\n"
          ],
          "name": "stdout"
        }
      ]
    },
    {
      "metadata": {
        "id": "8ATTQ2VDWXTm",
        "colab_type": "code",
        "colab": {
          "base_uri": "https://localhost:8080/",
          "height": 34
        },
        "outputId": "1f564291-67a0-41f0-c410-26168d4f6799"
      },
      "cell_type": "code",
      "source": [
        "# Contas Simples\n",
        "4 + 7"
      ],
      "execution_count": 3,
      "outputs": [
        {
          "output_type": "execute_result",
          "data": {
            "text/plain": [
              "11"
            ]
          },
          "metadata": {
            "tags": []
          },
          "execution_count": 3
        }
      ]
    },
    {
      "metadata": {
        "id": "z6FYpYnzWZSK",
        "colab_type": "code",
        "colab": {
          "base_uri": "https://localhost:8080/",
          "height": 118
        },
        "outputId": "8e293b83-c82d-4015-9b6c-4c18eeb55476"
      },
      "cell_type": "code",
      "source": [
        "# Subtração\n",
        "print (7 - 4)\n",
        "# Divisão\n",
        "print (8 / 2)\n",
        "# Multiplicação\n",
        "print (12 * 7)\n",
        "# Exponenciação\n",
        "print (2 ** 5)\n",
        "# Divisão - parte inteira\n",
        "print (11 // 2)\n",
        "# Divisão - resto\n",
        "print (11 % 2)\n"
      ],
      "execution_count": 4,
      "outputs": [
        {
          "output_type": "stream",
          "text": [
            "3\n",
            "4.0\n",
            "84\n",
            "32\n",
            "5\n",
            "1\n"
          ],
          "name": "stdout"
        }
      ]
    },
    {
      "metadata": {
        "id": "GDYd65LrWmql",
        "colab_type": "code",
        "colab": {
          "base_uri": "https://localhost:8080/",
          "height": 51
        },
        "outputId": "ba7cab80-9a43-49e4-f4c7-cfca2e777682"
      },
      "cell_type": "code",
      "source": [
        "a = 7 - 4\n",
        "print (type (a))\n",
        "b = 7 - 4.0\n",
        "print (type (b)) \n"
      ],
      "execution_count": 5,
      "outputs": [
        {
          "output_type": "stream",
          "text": [
            "<class 'int'>\n",
            "<class 'float'>\n"
          ],
          "name": "stdout"
        }
      ]
    },
    {
      "metadata": {
        "id": "GgwGzAfqWpXq",
        "colab_type": "code",
        "colab": {
          "base_uri": "https://localhost:8080/",
          "height": 68
        },
        "outputId": "fb57709c-c2a9-412d-f86e-924f4b922e6a"
      },
      "cell_type": "code",
      "source": [
        "c = 'quatro'\n",
        "print (type (c))\n",
        "d = 4 + 2j\n",
        "print (type (d))\n",
        "e = True\n",
        "print (type (e))\n"
      ],
      "execution_count": 6,
      "outputs": [
        {
          "output_type": "stream",
          "text": [
            "<class 'str'>\n",
            "<class 'complex'>\n",
            "<class 'bool'>\n"
          ],
          "name": "stdout"
        }
      ]
    }
  ]
}